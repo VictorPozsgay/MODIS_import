{
 "cells": [
  {
   "cell_type": "code",
   "execution_count": 4,
   "metadata": {},
   "outputs": [],
   "source": [
    "\"\"\"This module makes the MODIS csv results files conversion into a strandard\n",
    "netCDF4 file automatic.\"\"\"\n",
    "\n",
    "from datetime import datetime\n",
    "import os\n",
    "import toml\n",
    "\n",
    "from MODIS_full_nc_creation import full_nc_creation\n",
    "\n",
    "##################################################################################\n",
    "##################################################################################\n",
    "\n",
    "config_toml_path = '/fs/yedoma/home/vpo001/MODIS_import/examples/MODIS_test_Martha/par/MODIS_config.toml'\n",
    "\n",
    "full_nc_creation(config_toml_path)"
   ]
  },
  {
   "cell_type": "code",
   "execution_count": 6,
   "metadata": {},
   "outputs": [
    {
     "data": {
      "text/plain": [
       "<class 'netCDF4._netCDF4.Dataset'>\n",
       "root group (NETCDF4 data model, file format HDF5):\n",
       "    Conventions: CF-1.6\n",
       "    featureType: timeSeries\n",
       "    date_created: 2025-03-28T21:06:52.827874+00:00\n",
       "    source: MODIS/Terra Snow Cover Daily L3 Global 500m SIN Grid, Version 61 \n",
       " Data set id: MOD10A1.061 \n",
       " DOI: 10.5067/MODIS/MOD10A1.061 \n",
       " Layer: NDSI_Snow_Cover \n",
       " AND \n",
       " MODIS/Terra Land Surface Temperature/Emissivity Daily L3 Global 1 km SIN Grid, Version 61 \n",
       " Data set id: MOD11A1.061 \n",
       " DOI: 10.5067/MODIS/MOD11A1.061  \n",
       " Layers: LST_Day_1km, LST_Night_1km, Clear_day_cov, Clear_night_cov\n",
       "    dimensions(sizes): nchars(32), pointID(2), time(24)\n",
       "    variables(dimensions): float64 Date(time), |S1 pointID(pointID, nchars), float64 latitude(pointID), float64 longitude(pointID), |S1 MODIS_Tile(pointID, nchars), float64 NDSI_Snow_Cover(pointID, time), int32 NDSI_Snow_Cover_original_with_code_for_missing_data(pointID, time), float64 LST_Day(pointID, time), float64 LST_Night(pointID, time), float64 Clear_day_cov(pointID, time), float64 Clear_night_cov(pointID, time)\n",
       "    groups: "
      ]
     },
     "execution_count": 6,
     "metadata": {},
     "output_type": "execute_result"
    }
   ],
   "source": [
    "ncfile = Dataset('/fs/yedoma/home/vpo001/MODIS_import/examples/MODIS_test_Martha/download/Martha_snow_cover_LST_results.nc')\n",
    "ncfile"
   ]
  }
 ],
 "metadata": {
  "kernelspec": {
   "display_name": "victorconda",
   "language": "python",
   "name": "python3"
  },
  "language_info": {
   "codemirror_mode": {
    "name": "ipython",
    "version": 3
   },
   "file_extension": ".py",
   "mimetype": "text/x-python",
   "name": "python",
   "nbconvert_exporter": "python",
   "pygments_lexer": "ipython3",
   "version": "3.12.0"
  }
 },
 "nbformat": 4,
 "nbformat_minor": 2
}
